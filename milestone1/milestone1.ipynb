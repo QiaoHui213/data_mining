{
  "cells": [
    {
      "cell_type": "code",
      "metadata": {},
      "source": [
        "from selenium import webdriver\n",
        "from selenium.webdriver.common.keys import Keys\n",
        "import time\n",
        "\n",
        "driver = webdriver.Chrome(executable_path=\"C:\\\\Users\\\\User\\\\Desktop\\\\data_mining\\\\chromedriver.exe\")\n",
        "\n",
        "driver.set_page_load_timeout(30)\n",
        "driver.get(\"https://www.investing.com/commodities/gold-historical-data\")\n",
        "\n",
        "for i in range(5):\n",
        "    dateRangeElements = driver.find_elements_by_xpath(\"//div[@id='widgetFieldDateRange']\")\n",
        "    \n",
        "    if len(dateRangeElements) > 0:\n",
        "        dateRangeElements[0].click()\n",
        "        break\n",
        "    else:\n",
        "        print(str(i + 1) + \" trial, can't find element\")\n",
        "    \n",
        "    time.sleep(1)\n",
        "    i = i + 1\n",
        "\n",
        "elementStartDate = driver.find_element_by_xpath(\"//input[@id='startDate']\")\n",
        "elementStartDate.clear()\n",
        "elementStartDate.send_keys(\"01/01/2019\")\n",
        "\n",
        "driver.find_element_by_xpath(\"//a[@id='applyBtn']\").click()\n",
        "time.sleep(3)\n",
        "\n",
        "tableData = driver.find_elements_by_xpath(\"//table[@id='curr_table']/tbody/tr/td\")\n",
        "\n",
        "resultFile = open(\"goldprice_\" + time.strftime(\"%d-%b-%Y %H-%M-%S\", time.localtime()) + \".csv\", 'w')\n",
        "\n",
        "resultFile.write(\"Date,Price,Open,High,Low,Volume,Change %\\n\")\n",
        "\n",
        "column = 1\n",
        "for data in tableData:\n",
        "    if column != 7:\n",
        "        resultFile.write((data.text).replace(',', '') + \", \")\n",
        "        column = column + 1\n",
        "    else:\n",
        "        resultFile.write(data.text + \"\\n\")\n",
        "        column = 1\n",
        "\n",
        "resultFile.close()\n",
        "\n",
        "driver.close()"
      ],
      "outputs": [],
      "execution_count": null
    }
  ],
  "metadata": {
    "anaconda-cloud": {},
    "kernelspec": {
      "display_name": "Python 3",
      "language": "python",
      "name": "python3"
    },
    "language_info": {
      "codemirror_mode": {
        "name": "ipython",
        "version": 3
      },
      "file_extension": ".py",
      "mimetype": "text/x-python",
      "name": "python",
      "nbconvert_exporter": "python",
      "pygments_lexer": "ipython3",
      "version": "3.6.1"
    }
  },
  "nbformat": 4,
  "nbformat_minor": 1
}