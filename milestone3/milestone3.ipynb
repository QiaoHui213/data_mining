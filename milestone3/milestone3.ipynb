{
  "cells": [
    {
      "cell_type": "code",
      "metadata": {},
      "source": [
        "from pyhive import hive\n",
        "import pandas as pd \n",
        "\n",
        "host_name=\"localhost\"\n",
        "port=10000\n",
        "database=\"default\"\n",
        "\n",
        "def hiveconnection(host_name,port,database):\n",
        "    conn=hive.Connection(host=host_name,port=port,database=database)\n",
        "    cur=conn.cursor()\n",
        "    cur.execute('select * from data_table')\n",
        "    result=cur.fetchall()\n",
        "\n",
        "    return result\n",
        "\n",
        "output = hiveconnection(host_name,port,database)\n",
        "\n",
        "df=pd.DataFrame(output)"
      ],
      "outputs": [],
      "execution_count": null
    }
  ],
  "metadata": {
    "anaconda-cloud": {},
    "kernelspec": {
      "display_name": "Python 3",
      "language": "python",
      "name": "python3"
    },
    "language_info": {
      "codemirror_mode": {
        "name": "ipython",
        "version": 3
      },
      "file_extension": ".py",
      "mimetype": "text/x-python",
      "name": "python",
      "nbconvert_exporter": "python",
      "pygments_lexer": "ipython3",
      "version": "3.6.1"
    }
  },
  "nbformat": 4,
  "nbformat_minor": 1
}